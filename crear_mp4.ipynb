{
 "cells": [
  {
   "cell_type": "code",
   "execution_count": 12,
   "metadata": {},
   "outputs": [],
   "source": [
    "from selenium.webdriver.chrome.webdriver import WebDriver\n",
    "from selenium.webdriver.remote.webelement import WebElement\n",
    "import cv2\n",
    "import numpy as np\n",
    "\n",
    "\n",
    "class Record():\n",
    "    def __init__(self, object, file_name=\"video\",size=None, flags=cv2.IMREAD_COLOR):\n",
    "        self.object = object\n",
    "        self.flags = flags\n",
    "        self.size=size\n",
    "        fourcc = cv2.VideoWriter_fourcc(*'mp4v')\n",
    "        if self.size is None:\n",
    "            self.size = self.get_frame().shape[:2][::-1]\n",
    "        self.out = cv2.VideoWriter(f\"{file_name}.avi\", fourcc, 8.0, self.size)\n",
    "\n",
    "    def get_frame(self):\n",
    "        try:\n",
    "            if isinstance(self.object, WebDriver):\n",
    "                im_arr = np.frombuffer(\n",
    "                    self.object.get_screenshot_as_png(), dtype=np.uint8)\n",
    "            elif isinstance(self.object, WebElement):\n",
    "                im_arr = np.frombuffer(\n",
    "                    self.object.screenshot_as_png, dtype=np.uint8)\n",
    "        except:\n",
    "            return False\n",
    "        self.frame = cv2.imdecode(im_arr, flags=self.flags)\n",
    "        return self.frame\n",
    "\n",
    "    def capture(self):\n",
    "        frame = cv2.resize(self.frame, self.size)\n",
    "        self.out.write(frame)\n",
    "        return frame\n",
    "\n",
    "    def save(self):\n",
    "        self.out.release()\n"
   ]
  },
  {
   "cell_type": "code",
   "execution_count": 13,
   "metadata": {},
   "outputs": [
    {
     "name": "stdout",
     "output_type": "stream",
     "text": [
      "302\n"
     ]
    }
   ],
   "source": [
    "from selenium import webdriver\n",
    "from selenium.webdriver.chrome.service import Service\n",
    "service = Service(\n",
    "    \"C:/Users/Roshan Yadav/Documents/chromedriver_win32/chromedriver.exe\")\n",
    "driver = webdriver.Chrome(service=service)\n",
    "try:\n",
    "    driver.get(\"https://ipcamlive.com/player/player.php?alias=broadwaycam&autoplay=1&disablevideofit=1&token=a0cc7b5f\")\n",
    "except:\n",
    "    pass\n",
    "driver.maximize_window()#captura la pantalla completa\n",
    "window = Record(driver, file_name=\"firearch\")\n",
    "frames=0\n",
    "limite=300\n",
    "while True:\n",
    "    frame = window.get_frame()  # guarda frames uno por uno\n",
    "    frames=frames+1\n",
    "    if frames>limite:\n",
    "        driver.quit()\n",
    "    \n",
    "    if frame is False:\n",
    "        # Cuando se detecta que el driver(la pantalla se cierra) rompe el bucle\n",
    "        window.save()\n",
    "        print(frames)\n",
    "        break\n",
    "    # guardo el mp4\n",
    "    window.capture()"
   ]
  }
 ],
 "metadata": {
  "kernelspec": {
   "display_name": "base",
   "language": "python",
   "name": "python3"
  },
  "language_info": {
   "codemirror_mode": {
    "name": "ipython",
    "version": 3
   },
   "file_extension": ".py",
   "mimetype": "text/x-python",
   "name": "python",
   "nbconvert_exporter": "python",
   "pygments_lexer": "ipython3",
   "version": "3.9.13"
  },
  "orig_nbformat": 4,
  "vscode": {
   "interpreter": {
    "hash": "9b3f0351e03419a7598b87b597af9ed2bf55c777e4abe37af39174ced907461d"
   }
  }
 },
 "nbformat": 4,
 "nbformat_minor": 2
}
